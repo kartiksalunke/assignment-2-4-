{
 "cells": [
  {
   "cell_type": "markdown",
   "id": "c061856e-b7c1-4aee-8751-f27e9702df19",
   "metadata": {},
   "source": [
    "1. Which keyword is used to create a function? Create a function to return a list of odd numbers in the range of 1 to 25. Ans> The keyword used to create a function in Python is \"def\". Here's the code to create a function that returns a list of odd numbers in the range of 1 to 25"
   ]
  },
  {
   "cell_type": "code",
   "execution_count": 1,
   "id": "bc4ae000-8f77-479f-9c8f-ffa7348ce146",
   "metadata": {},
   "outputs": [
    {
     "data": {
      "text/plain": [
       "[1, 3, 5, 7, 9, 11, 13, 15, 17, 19, 21, 23, 25]"
      ]
     },
     "execution_count": 1,
     "metadata": {},
     "output_type": "execute_result"
    }
   ],
   "source": [
    "def odd_numbers():\n",
    "    odd_list = []\n",
    "    for i in range(1, 26):\n",
    "        if i % 2 != 0:\n",
    "            odd_list.append(i)\n",
    "    return odd_list\n",
    "odd_numbers()"
   ]
  },
  {
   "cell_type": "markdown",
   "id": "31e12e99-92e9-4cdb-bfe0-7b8487de1ff2",
   "metadata": {},
   "source": [
    "2. Why args and kwargs is used in some functions? Create a function each for args and **kwargs to demonstrate their use.\n"
   ]
  },
  {
   "cell_type": "markdown",
   "id": "27168628-7430-4bfa-904b-970223eef028",
   "metadata": {},
   "source": [
    "args and kwargs are used in functions to allow them to accept a varying number of arguments. *args is used to send a non-keyworded variable length argument list to the function. It allows you to pass a variable number of arguments to a function, which will be received as a tuple. kwargs is used to pass keyworded variable length of arguments to a function, which will be received as a dictionary. Here's an example of how you can use args and *kwargs in a function:"
   ]
  },
  {
   "cell_type": "code",
   "execution_count": 4,
   "id": "32e4abbc-12b8-442a-9dd7-be34ab805199",
   "metadata": {},
   "outputs": [],
   "source": [
    "def print_args(*args):\n",
    "    print(\"Arguments passed as *args:\", args)\n",
    "    \n",
    "def print_kwargs(**kwargs):\n",
    "    print(\"Arguments passed as **kwargs:\", kwargs)"
   ]
  },
  {
   "cell_type": "markdown",
   "id": "89a05fba-4c37-4212-9f4d-b7e1ee6dbf60",
   "metadata": {},
   "source": [
    "3 .What is an iterator in python? Name the method used to initialise the iterator object and the method used for iteration. Use these methods to print the first five elements of the given list [2, 4, 6, 8, 10, 12, 14, 16, 18, 20]."
   ]
  },
  {
   "cell_type": "markdown",
   "id": "55098e2a-19f8-4fd7-be16-520ad31bffc8",
   "metadata": {},
   "source": [
    "An iterator in Python is an object that implements the iterator protocol, which consists of two methods: iter() and next(). The iter() method is used to initialize the iterator object, and the next() method is used for iteration.\n",
    "\n"
   ]
  },
  {
   "cell_type": "code",
   "execution_count": 6,
   "id": "5480b890-7625-4365-9384-a0388ce76460",
   "metadata": {},
   "outputs": [
    {
     "name": "stdout",
     "output_type": "stream",
     "text": [
      "The first 5 numbers:\n",
      "2\n",
      "4\n",
      "6\n",
      "8\n",
      "10\n"
     ]
    }
   ],
   "source": [
    "#example\n",
    "numbers = [2, 4, 6, 8, 10, 12, 14, 16, 18, 20]\n",
    "\n",
    "class TopNumbers:\n",
    "    def __init__(self, limit):\n",
    "        self.limit = limit\n",
    "        self.counter = 0\n",
    "\n",
    "    def __iter__(self):\n",
    "        return self\n",
    "\n",
    "    def __next__(self):\n",
    "        if self.counter < self.limit:\n",
    "            number = numbers[self.counter]\n",
    "            self.counter += 1\n",
    "            return number\n",
    "        else:\n",
    "            raise StopIteration\n",
    "\n",
    "print(\"The first 5 numbers:\")\n",
    "for number in TopNumbers(5):\n",
    "    print(number)"
   ]
  },
  {
   "cell_type": "markdown",
   "id": "37733cdd-6f24-4415-96c7-b7edf183a315",
   "metadata": {},
   "source": [
    "4 . What is a generator function in python? Why yield keyword is used? Give an example of a generator function. Ans> A generator function in Python is a function that returns a generator iterator. The yield keyword is used to return a value from a generator function and pause the function's execution. When the generator function is called again, it resumes execution from where it left off, using the saved state from the last call to yield."
   ]
  },
  {
   "cell_type": "code",
   "execution_count": 7,
   "id": "70a4f6cd-8b01-4a94-8153-31f89ee7c097",
   "metadata": {},
   "outputs": [
    {
     "name": "stdout",
     "output_type": "stream",
     "text": [
      "Fibonacci sequence:\n",
      "0\n",
      "1\n",
      "1\n",
      "2\n",
      "3\n",
      "5\n",
      "8\n",
      "13\n"
     ]
    }
   ],
   "source": [
    "def fibonacci_sequence(limit):\n",
    "    a, b = 0, 1\n",
    "    while a < limit:\n",
    "        yield a\n",
    "        a, b = b, a + b\n",
    "\n",
    "fib = fibonacci_sequence(20)\n",
    "\n",
    "print(\"Fibonacci sequence:\")\n",
    "for number in fib:\n",
    "    print(number)    "
   ]
  },
  {
   "cell_type": "markdown",
   "id": "a512ac2d-a94e-47ef-ae33-d5d641d74eb0",
   "metadata": {},
   "source": [
    "5 . Create a generator function for prime numbers less than 1000. Use the next() method to print the first 20 prime numbers"
   ]
  },
  {
   "cell_type": "code",
   "execution_count": 8,
   "id": "c8762c99-1133-4c4b-95e9-76cd28d71f79",
   "metadata": {},
   "outputs": [
    {
     "name": "stdout",
     "output_type": "stream",
     "text": [
      "The first 20 prime numbers:\n",
      "2\n",
      "3\n",
      "5\n",
      "7\n",
      "11\n",
      "13\n",
      "17\n",
      "19\n",
      "23\n",
      "29\n",
      "31\n",
      "37\n",
      "41\n",
      "43\n",
      "47\n",
      "53\n",
      "59\n",
      "61\n",
      "67\n",
      "71\n"
     ]
    }
   ],
   "source": [
    "def prime_numbers():\n",
    "    yield 2\n",
    "    primes = [2]\n",
    "    candidate = 3\n",
    "    while candidate < 1000:\n",
    "        is_prime = True\n",
    "        for prime in primes:\n",
    "            if candidate % prime == 0:\n",
    "                is_prime = False\n",
    "                break\n",
    "        if is_prime:\n",
    "            primes.append(candidate)\n",
    "            yield candidate\n",
    "        candidate += 2\n",
    "\n",
    "primes = prime_numbers()\n",
    "\n",
    "print(\"The first 20 prime numbers:\")\n",
    "for i in range(20):\n",
    "    print(next(primes))"
   ]
  },
  {
   "cell_type": "markdown",
   "id": "30887bea-aed7-4d96-959d-59ba1c7d5ec2",
   "metadata": {},
   "source": [
    "6 . Write a python program to print the first 10 Fibonacci numbers using a while looP"
   ]
  },
  {
   "cell_type": "code",
   "execution_count": 9,
   "id": "dd26338c-e524-4b23-9bbf-6ba01baad8a9",
   "metadata": {},
   "outputs": [
    {
     "name": "stdout",
     "output_type": "stream",
     "text": [
      "0\n",
      "1\n",
      "1\n",
      "2\n",
      "3\n",
      "5\n",
      "8\n",
      "13\n",
      "21\n",
      "34\n"
     ]
    }
   ],
   "source": [
    "a, b = 0, 1\n",
    "count = 0\n",
    "\n",
    "while count < 10:\n",
    "    print(a)\n",
    "    a, b = b, a + b\n",
    "    count += 1"
   ]
  },
  {
   "cell_type": "markdown",
   "id": "80f7612b-98f7-4cbc-ac67-2599507abbb2",
   "metadata": {},
   "source": [
    "7 . Write a List Comprehension to iterate through the given string: ‘pwskills’. Expected output: ['p', 'w', 's', 'k', 'i', 'l', 'l', 's']"
   ]
  },
  {
   "cell_type": "code",
   "execution_count": 11,
   "id": "d22e8076-eec3-4d4d-b327-46c4e535e0e4",
   "metadata": {},
   "outputs": [
    {
     "name": "stdout",
     "output_type": "stream",
     "text": [
      "['p', 'w', 's', 'k', 'i', 'l', 'l', 's']\n"
     ]
    }
   ],
   "source": [
    "string = 'pwskills'\n",
    "characters = [char for char in string]\n",
    "print(characters)"
   ]
  },
  {
   "cell_type": "markdown",
   "id": "f4039105-6592-4808-b054-253899a1a4a9",
   "metadata": {},
   "source": [
    "8 . Write a python program to check whether a given number is Palindrome or not using a while loop."
   ]
  },
  {
   "cell_type": "code",
   "execution_count": 13,
   "id": "aae46155-add3-40e6-aaad-246bcca51028",
   "metadata": {},
   "outputs": [
    {
     "name": "stdin",
     "output_type": "stream",
     "text": [
      "Enter a number:  12321\n"
     ]
    },
    {
     "name": "stdout",
     "output_type": "stream",
     "text": [
      "12321 is a palindrome.\n"
     ]
    }
   ],
   "source": [
    "def is_palindrome(num):\n",
    "    original = num\n",
    "    reverse = 0\n",
    "    while num > 0:\n",
    "        digit = num % 10\n",
    "        reverse = reverse * 10 + digit\n",
    "        num = num // 10\n",
    "    return original == reverse\n",
    "\n",
    "number = int(input(\"Enter a number: \"))\n",
    "if is_palindrome(number):\n",
    "    print(f\"{number} is a palindrome.\")\n",
    "else:\n",
    "    print(f\"{number} is not a palindrome.\")"
   ]
  },
  {
   "cell_type": "code",
   "execution_count": null,
   "id": "ce3ad42b-a936-46d6-8923-fe179ee52948",
   "metadata": {},
   "outputs": [],
   "source": []
  }
 ],
 "metadata": {
  "kernelspec": {
   "display_name": "Python 3 (ipykernel)",
   "language": "python",
   "name": "python3"
  },
  "language_info": {
   "codemirror_mode": {
    "name": "ipython",
    "version": 3
   },
   "file_extension": ".py",
   "mimetype": "text/x-python",
   "name": "python",
   "nbconvert_exporter": "python",
   "pygments_lexer": "ipython3",
   "version": "3.10.8"
  }
 },
 "nbformat": 4,
 "nbformat_minor": 5
}
